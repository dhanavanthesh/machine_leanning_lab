{
 "cells": [
  {
   "cell_type": "markdown",
   "id": "975f6253",
   "metadata": {},
   "source": [
    "# KNN Classification\n",
    "- 100 random values [0,1]\n",
    "- First 50: x≤0.5→Class1, else→Class2\n",
    "- Test k=1,2,3,4,5,20,30"
   ]
  },
  {
   "cell_type": "markdown",
   "id": "3396ea11",
   "metadata": {},
   "source": [
    "## How This Implementation Works\n",
    "\n",
    "This program implements the k-Nearest Neighbors algorithm to satisfy the given requirements:\n",
    "\n",
    "1. **Data Generation**:\n",
    "   - Generate 100 random values between [0,1] using numpy's random function\n",
    "   - Set a random seed (42) for reproducibility\n",
    "\n",
    "2. **Data Preparation**:\n",
    "   - Split data into training (first 50 points) and testing (remaining 50 points)\n",
    "   - Label training points according to the rule: if x≤0.5 then Class1, else Class2\n",
    "\n",
    "3. **KNN Algorithm Implementation**:\n",
    "   - For each test point, calculate distance to all training points\n",
    "   - Sort distances to find k-nearest neighbors\n",
    "   - Take a vote among these k neighbors to determine the class\n",
    "   - Assign the majority class to the test point\n",
    "\n",
    "4. **Testing Different k Values**:\n",
    "   - Try k=1, k=5, and k=30 as representative values\n",
    "   - For each k, classify all test points and count results by class\n",
    "\n",
    "5. **Visualization**:\n",
    "   - Plot training data on one level (y=0), colored by class (blue=Class1, red=Class2)\n",
    "   - Plot test data on another level (y=1), colored by predicted class\n",
    "   - This visualization helps assess how well the algorithm classified test points\n",
    "\n",
    "This implementation directly addresses the question requirements by labeling the first 50 points according to the rule and using KNN to classify the remaining points with different k values."
   ]
  },
  {
   "cell_type": "code",
   "execution_count": 4,
   "id": "17fb32fd",
   "metadata": {},
   "outputs": [
    {
     "name": "stdout",
     "output_type": "stream",
     "text": [
      "k=1: Class1=25, Class2=25\n",
      "k=5: Class1=24, Class2=26\n"
     ]
    },
    {
     "data": {
      "image/png": "[encoded data removed]",
      "text/plain": [
       "<Figure size 500x250 with 1 Axes>"
      ]
     },
     "metadata": {},
     "output_type": "display_data"
    },
    {
     "name": "stdout",
     "output_type": "stream",
     "text": [
      "k=30: Class1=25, Class2=25\n"
     ]
    }
   ],
   "source": [
    "import numpy as np, matplotlib.pyplot as plt\n",
    "from collections import Counter\n",
    "\n",
    "# Setup\n",
    "np.random.seed(42)\n",
    "data = np.random.rand(100)\n",
    "x_train, x_test = data[:50], data[50:]\n",
    "y_train = [\"Class1\" if x <= 0.5 else \"Class2\" for x in x_train]\n",
    "\n",
    "# KNN function\n",
    "def knn(x, k):\n",
    "    votes = [y for _, y in sorted([(abs(x - x_i), y_i) for x_i, y_i in zip(x_train, y_train)])[:k]]\n",
    "    return Counter(votes).most_common(1)[0][0]\n",
    "\n",
    "# Classify with different k\n",
    "for k in [1, 5, 30]:\n",
    "    pred = [knn(x, k) for x in x_test]\n",
    "    print(f\"k={k}: Class1={pred.count('Class1')}, Class2={pred.count('Class2')}\")\n",
    "    \n",
    "    # Plot one example (k=5)\n",
    "    if k == 5:\n",
    "        c1 = [x for i, x in enumerate(x_test) if pred[i] == \"Class1\"]\n",
    "        c2 = [x for i, x in enumerate(x_test) if pred[i] == \"Class2\"]\n",
    "        \n",
    "        plt.figure(figsize=(5, 2.5))\n",
    "        plt.scatter(x_train, [0]*50, c=[\"b\" if l==\"Class1\" else \"r\" for l in y_train], marker=\"o\")\n",
    "        plt.scatter(c1, [1]*len(c1), c=\"b\", marker=\"x\")\n",
    "        plt.scatter(c2, [1]*len(c2), c=\"r\", marker=\"x\")\n",
    "        plt.yticks([0, 1], [\"Train\", \"Test\"])\n",
    "        plt.title(f\"k-NN (k={k})\")\n",
    "        plt.grid()\n",
    "        plt.show()"
   ]
  }
 ],
 "metadata": {
  "kernelspec": {
   "display_name": ".venv",
   "language": "python",
   "name": "python3"
  },
  "language_info": {
   "codemirror_mode": {
    "name": "ipython",
    "version": 3
   },
   "file_extension": ".py",
   "mimetype": "text/x-python",
   "name": "python",
   "nbconvert_exporter": "python",
   "pygments_lexer": "ipython3",
   "version": "3.12.0"
  }
 },
 "nbformat": 4,
 "nbformat_minor": 5
}
