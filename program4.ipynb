{
 "cells": [
  {
   "cell_type": "markdown",
   "id": "12cbc3b9",
   "metadata": {},
   "source": [
    "# Find-S Algorithm Implementation\n",
    "\n",
    "This notebook implements the Find-S algorithm to find the most specific hypothesis that is consistent with the positive training examples.\n",
    "\n",
    "## Algorithm Steps:\n",
    "1. Initialize the hypothesis to None\n",
    "2. For each positive training example:\n",
    "   - If hypothesis is None, set it to this first positive example\n",
    "   - Otherwise, for each attribute in the example:\n",
    "     - If the attribute value is not consistent with the hypothesis, replace it with a more general constraint\n",
    "3. Return the hypothesis"
   ]
  },
  {
   "cell_type": "markdown",
   "id": "9485b817",
   "metadata": {},
   "source": [
    "## How Find-S Works (Simple Explanation)\n",
    "\n",
    "Think of Find-S as learning what features matter for a positive outcome by examining only the positive examples:\n",
    "\n",
    "1. **Start with first positive example**: Begin with the first positive example as your initial hypothesis\n",
    "\n",
    "2. **Look at positive examples only**: Only examine data where the outcome was 'Yes'\n",
    "\n",
    "3. **Keep what's consistent, generalize what's not**:\n",
    "   - If you see the same value for an attribute in all positive examples (e.g., always 'Sunny'), keep it as a requirement\n",
    "   - If you see different values for an attribute (e.g., sometimes 'Hot', sometimes 'Cold'), change it to '?' meaning \"this attribute doesn't matter\"\n",
    "\n",
    "4. **The final hypothesis tells you**: \"These specific conditions MUST be present for a positive outcome, and everything marked with '?' can vary\"\n",
    "\n",
    "For example, if your final hypothesis is ['?', '?', 'Normal', '?'], it means:\n",
    "- Weather can be anything (doesn't matter)\n",
    "- Temperature can be anything (doesn't matter)\n",
    "- Humidity MUST be Normal\n",
    "- Wind can be anything (doesn't matter)"
   ]
  },
  {
   "cell_type": "code",
   "execution_count": 7,
   "id": "cd294ec4",
   "metadata": {},
   "outputs": [
    {
     "name": "stdout",
     "output_type": "stream",
     "text": [
      "Training data:\n",
      "    Outlook Temperature Humidity  Windy PlayTennis\n",
      "0     Sunny         Hot     High  False         No\n",
      "1     Sunny         Hot     High   True         No\n",
      "2  Overcast         Hot     High  False        Yes\n",
      "3      Rain        Cold     High  False        Yes\n",
      "4      Rain        Cold     High   True         No\n",
      "5  Overcast         Hot     High   True        Yes\n",
      "6     Sunny         Hot     High  False         No\n",
      "\n",
      "Final hypothesis: ['?', '?', 'High', '?']\n"
     ]
    }
   ],
   "source": [
    "import pandas as pd\n",
    "\n",
    "def find_s_algorithm(data):\n",
    "    # Get attribute names and target column\n",
    "    attributes = data.columns[:-1]\n",
    "    target = data.columns[-1]\n",
    "    \n",
    "    # Initialize hypothesis to None\n",
    "    hypothesis = None\n",
    "    \n",
    "    # Process positive examples\n",
    "    for _, row in data.iterrows():\n",
    "        if row[target] == 'Yes':  # Consider only positive examples\n",
    "            # For first positive example, set hypothesis to this example\n",
    "            if hypothesis == None:\n",
    "                hypothesis = list(row[attributes])\n",
    "            else:\n",
    "                # For subsequent examples, generalize the hypothesis if needed\n",
    "                for i, attr in enumerate(attributes):\n",
    "                    if hypothesis[i] != row[attr]:\n",
    "                        hypothesis[i] = '?'  # Generalize to '?'\n",
    "    \n",
    "    return hypothesis\n",
    "\n",
    "# Sample usage\n",
    "data = pd.read_csv('training_data.csv')\n",
    "print(\"Training data:\")\n",
    "print(data)\n",
    "print(\"\\nFinal hypothesis:\", find_s_algorithm(data))"
   ]
  },
  {
   "cell_type": "markdown",
   "id": "09970eb9",
   "metadata": {},
   "source": [
    "## Interpretation of Results\n",
    "\n",
    "- Each attribute in the final hypothesis represents a constraint\n",
    "- Specific values represent required attribute values\n",
    "- '?' symbols represent attributes that can take any value\n",
    "- The hypothesis describes the most specific generalization that covers all positive examples\n",
    "\n",
    "## Expected Output\n",
    "\n",
    "Based on the training data, the correct output should be: ['?', '?', 'High', '?']\n",
    "\n",
    "This means:\n",
    "- Outlook can be anything\n",
    "- Temperature can be anything\n",
    "- Humidity must be High for positive examples\n",
    "- Wind condition can be anything"
   ]
  },
  {
   "cell_type": "code",
   "execution_count": null,
   "id": "32b442e1",
   "metadata": {},
   "outputs": [
    {
     "name": "stdout",
     "output_type": "stream",
     "text": [
      "Final hypothesis: ['?', '?', 'High', '?']\n"
     ]
    },
    {
     "name": "stderr",
     "output_type": "stream",
     "text": [
      "C:\\Users\\Dhana\\AppData\\Local\\Temp\\ipykernel_25072\\168648652.py:6: FutureWarning: Series.__getitem__ treating keys as positions is deprecated. In a future version, integer keys will always be treated as labels (consistent with DataFrame behavior). To access a value by position, use `ser.iloc[pos]`\n",
      "  if row[-1] == 'Yes':\n",
      "C:\\Users\\Dhana\\AppData\\Local\\Temp\\ipykernel_25072\\168648652.py:10: FutureWarning: Series.__getitem__ treating keys as positions is deprecated. In a future version, integer keys will always be treated as labels (consistent with DataFrame behavior). To access a value by position, use `ser.iloc[pos]`\n",
      "  h = ['?' if h[i] != row[i] else h[i] for i in range(len(h))]\n"
     ]
    }
   ],
   "source": [
    "import pandas as pd  # Load the pandas library to read CSV files\n",
    "\n",
    "def find_s(data):  # Our function to find the pattern\n",
    "    h = None        # Start with nothing\n",
    "    for _, row in data.iterrows():  # Go through each row in the table\n",
    "        if row[-1] == 'Yes':        # If the answer is 'Yes'\n",
    "            if h is None:           # If we haven't started yet\n",
    "                h = list(row[:-1])  # Take this row as our first guess\n",
    "            else:\n",
    "                # Compare this row to our current guess, update differences with '?'\n",
    "                h = ['?' if h[i] != row[i] else h[i] for i in range(len(h))]\n",
    "    return h  # Return the final rule (hypothesis)\n",
    "\n",
    "# Load the table from a file\n",
    "data = pd.read_csv('training_data.csv')\n",
    "\n",
    "# Print what the computer learned\n",
    "print(\"Final hypothesis:\", find_s(data))\n"
   ]
  },
  {
   "cell_type": "markdown",
   "id": "e8135959",
   "metadata": {},
   "source": [
    "1. What is the goal of the Find-S algorithm?\n",
    "To find the most specific hypothesis that fits all positive examples in the training data.\n",
    "\n",
    "2. Why do we ignore negative examples in Find-S?\n",
    "Because Find-S only tries to generalize from positive examples. It assumes negative examples are not useful for creating the most specific hypothesis.\n",
    "\n",
    "3. What does '?' mean in the final hypothesis?\n",
    "It means that any value is acceptable for that attribute (i.e., it's generalized because it varied in the positive examples).\n",
    "\n",
    "4. What happens if no positive examples are found?\n",
    "Then the hypothesis remains None, as there’s no data to learn from.\n",
    "\n",
    "5. Can Find-S handle noise or contradictory data?\n",
    "No. Find-S assumes all data is consistent and noise-free. It fails if the data contains incorrect labels or contradictions.\n",
    "\n",
    "6. Is Find-S sufficient to find all consistent hypotheses?\n",
    "No. It only finds one specific consistent hypothesis — the most specific one, not all possible consistent hypotheses."
   ]
  },
  {
   "cell_type": "markdown",
   "id": "8ff2ba9e",
   "metadata": {},
   "source": [
    "✅ What is a Hypothesis (in simple terms)?\n",
    "In the Find-S algorithm, a hypothesis is a set of conditions that describe what kind of inputs lead to a positive outcome (i.e., when the target/output is \"Yes\").\n",
    "\n",
    "Imagine you're trying to figure out what makes a fruit sweet. You look at different fruits with different properties (color, size, texture, etc.) and note which ones are sweet. The hypothesis is your best guess of common features that all sweet fruits share.\n",
    "\n",
    "💡 In machine learning, a hypothesis is just a rule or pattern the algorithm learns from the data to make decisions."
   ]
  }
 ],
 "metadata": {
  "kernelspec": {
   "display_name": ".venv",
   "language": "python",
   "name": "python3"
  },
  "language_info": {
   "codemirror_mode": {
    "name": "ipython",
    "version": 3
   },
   "file_extension": ".py",
   "mimetype": "text/x-python",
   "name": "python",
   "nbconvert_exporter": "python",
   "pygments_lexer": "ipython3",
   "version": "3.12.0"
  }
 },
 "nbformat": 4,
 "nbformat_minor": 5
}
